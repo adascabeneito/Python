{
 "cells": [
  {
   "cell_type": "code",
   "execution_count": 25,
   "metadata": {},
   "outputs": [
    {
     "name": "stdout",
     "output_type": "stream",
     "text": [
      "La nota 2.5 és: Suspès\n"
     ]
    }
   ],
   "source": [
    "def classificar_nota(nota):\n",
    "    if nota < 5:\n",
    "        return 'Suspès'\n",
    "    elif 5<= nota <7:\n",
    "        return 'Aprovat'\n",
    "    elif 7<= nota <9:\n",
    "        return 'Notable'\n",
    "    elif 9<= nota:\n",
    "        return 'Excel·lent'\n",
    "    else: \n",
    "        return 'Nota no vàlida'\n",
    "\n",
    "nota_alumne = 2.5\n",
    "resultat_classificació=classificar_nota(nota_alumne)\n",
    "print(f'La nota {nota_alumne} és: {resultat_classificació}')\n"
   ]
  },
  {
   "cell_type": "code",
   "execution_count": 3,
   "metadata": {},
   "outputs": [
    {
     "name": "stdout",
     "output_type": "stream",
     "text": [
      "4.0 és més gran que el 1.0\n"
     ]
    }
   ],
   "source": [
    "def comparar_números():\n",
    "    try:\n",
    "        num1 = float(input('Introdueix el primer número:'))\n",
    "        num2 = float(input('Introdueix el segon número:'))\n",
    "\n",
    "        if num1>num2:\n",
    "            print(f'{num1} és més gran que el {num2}')   \n",
    "        elif num2>num1:\n",
    "            print(f'{num2} és més gran que el {num1}')\n",
    "        else:\n",
    "            print('Els números són iguals')\n",
    "    except ValueError:\n",
    "        print('Escriu números vàlids')\n",
    "\n",
    "comparar_números()"
   ]
  },
  {
   "cell_type": "code",
   "execution_count": 13,
   "metadata": {},
   "outputs": [
    {
     "name": "stdout",
     "output_type": "stream",
     "text": [
      "AriAriAri\n"
     ]
    }
   ],
   "source": [
    "def repetir_nom():\n",
    "    try:\n",
    "        nom1 = str(input('Quin és el teu nom?'))\n",
    "        num1 = int(input('Diguem un número: '))\n",
    "\n",
    "        if num1==0:\n",
    "            print  ('Error')\n",
    "        else:\n",
    "            resultat = nom1 * num1\n",
    "            print(resultat)\n",
    "    except ValueError:\n",
    "        print('Escriu un número vàlid')\n",
    "repetir_nom()"
   ]
  },
  {
   "cell_type": "code",
   "execution_count": 21,
   "metadata": {},
   "outputs": [],
   "source": [
    "def simetria(llista):\n",
    "    longitud=len(llista)\n",
    "\n",
    "    if longitud %2 !=0:\n",
    "        return 'La llista no és simètrica'\n",
    "    meitat =longitud//2\n",
    "    primera_meitat=llista[:meitat]\n",
    "    segona_meitat=llista[meitat:][::-1]\n",
    "    if primera_meitat ==segona_meitat:\n",
    "        return 'És simètrica'\n",
    "    else:\n",
    "        return 'No és simètrica'\n"
   ]
  },
  {
   "cell_type": "code",
   "execution_count": 24,
   "metadata": {},
   "outputs": [
    {
     "name": "stdout",
     "output_type": "stream",
     "text": [
      "No és simètrica\n"
     ]
    }
   ],
   "source": [
    "llista = [4,2,6,6,5,4]\n",
    "resultat = simetria(llista)\n",
    "print(resultat)"
   ]
  },
  {
   "cell_type": "code",
   "execution_count": 26,
   "metadata": {},
   "outputs": [],
   "source": [
    "def coincidir_numposició(llista):\n",
    "    coincidencies = [num for posicio, num in enumerate(llista) if posicio == num]\n",
    "    num_coincidencies = len(coincidencies)\n",
    "\n",
    "    if num_coincidencies == 0:\n",
    "        return 'No coincideix cap número amb la seva posició'\n",
    "    else:\n",
    "        return f'{num_coincidencies} números coincideixen amb les seves posicions'"
   ]
  },
  {
   "cell_type": "code",
   "execution_count": 31,
   "metadata": {},
   "outputs": [
    {
     "name": "stdout",
     "output_type": "stream",
     "text": [
      "2 números coincideixen amb les seves posicions\n"
     ]
    }
   ],
   "source": [
    "llista = [0,4,3,3,6,6]\n",
    "resultat=coincidir_numposició(llista)\n",
    "print (resultat)"
   ]
  }
 ],
 "metadata": {
  "kernelspec": {
   "display_name": "Python 3",
   "language": "python",
   "name": "python3"
  },
  "language_info": {
   "codemirror_mode": {
    "name": "ipython",
    "version": 3
   },
   "file_extension": ".py",
   "mimetype": "text/x-python",
   "name": "python",
   "nbconvert_exporter": "python",
   "pygments_lexer": "ipython3",
   "version": "3.12.0"
  }
 },
 "nbformat": 4,
 "nbformat_minor": 2
}
